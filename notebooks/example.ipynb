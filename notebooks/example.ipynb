{
 "cells": [
  {
   "cell_type": "code",
   "execution_count": 3,
   "metadata": {},
   "outputs": [],
   "source": [
    "from collections import namedtuple "
   ]
  },
  {
   "cell_type": "code",
   "execution_count": null,
   "metadata": {},
   "outputs": [],
   "source": [
    "namedtuple()"
   ]
  },
  {
   "cell_type": "markdown",
   "metadata": {},
   "source": [
    "1. Download url \n",
    "2. Dowload folder (compressed file)\n",
    "3. Exract folder (extracted file)\n",
    "4. Train dataset folder\n",
    "5. Test dataset folder"
   ]
  },
  {
   "cell_type": "code",
   "execution_count": 7,
   "metadata": {},
   "outputs": [],
   "source": [
    "DataIngestionConfig = namedtuple(\"DataIngestionConfig\",\n",
    "[\"dataset_download_url\", \"tgz_download_dir\", \"raw_data_dir\", \"ingested_train_dir\", \"ingested_test_dir\"])"
   ]
  },
  {
   "cell_type": "code",
   "execution_count": 8,
   "metadata": {},
   "outputs": [],
   "source": [
    "data_ingestion_config  = DataIngestionConfig(dataset_download_url=\"sfdd\",\n",
    "tgz_download_dir=\"atsw\",\n",
    "raw_data_dir=\"twkh\",\n",
    "ingested_train_dir=\"hg\",\n",
    "ingested_test_dir=\"hgkd\")"
   ]
  },
  {
   "cell_type": "code",
   "execution_count": null,
   "metadata": {},
   "outputs": [],
   "source": []
  }
 ],
 "metadata": {
  "kernelspec": {
   "display_name": "Python 3.7.0 (conda)",
   "language": "python",
   "name": "python3"
  },
  "language_info": {
   "codemirror_mode": {
    "name": "ipython",
    "version": 3
   },
   "file_extension": ".py",
   "mimetype": "text/x-python",
   "name": "python",
   "nbconvert_exporter": "python",
   "pygments_lexer": "ipython3",
   "version": "3.7.0"
  },
  "orig_nbformat": 4,
  "vscode": {
   "interpreter": {
    "hash": "6cfedaa45f1a1abd661f9f31cacf109fc91df9cea5713bf639a7d77162a4fed1"
   }
  }
 },
 "nbformat": 4,
 "nbformat_minor": 2
}
